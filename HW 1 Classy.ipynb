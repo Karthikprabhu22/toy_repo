{
 "cells": [
  {
   "cell_type": "code",
   "execution_count": 46,
   "metadata": {},
   "outputs": [],
   "source": [
    "import random\n",
    "from matplotlib import pyplot as plt\n",
    "%matplotlib inline\n",
    "from numpy import array_equal"
   ]
  },
  {
   "cell_type": "code",
   "execution_count": 47,
   "metadata": {},
   "outputs": [],
   "source": [
    "# Function to convert a given decimal number to a ternary\n",
    "def ter(n):  \n",
    "    ans = \"\"\n",
    "    while n > 0: \n",
    "        dig = int(n%3)\n",
    "        ans += str(dig)\n",
    "        n //= 3\n",
    "    ans = ans[::-1]  #To reverse the string\n",
    "    return ans"
   ]
  },
  {
   "cell_type": "code",
   "execution_count": 48,
   "metadata": {},
   "outputs": [],
   "source": [
    "def random_string(length):\n",
    "    '''\n",
    "    Returns a random bit string of the given length. \n",
    "    \n",
    "    Parameters\n",
    "    ----------\n",
    "    length: int\n",
    "        Posivite integer that specifies the desired length of the bit string.\n",
    "        \n",
    "    Returns\n",
    "    -------\n",
    "    out: list\n",
    "        The random bit string given as a list, with int elements.\n",
    "    '''\n",
    "    if not isinstance(length, int) or length < 0:\n",
    "        raise ValueError(\"input length must be a positive ingeter\")\n",
    "    return [random.randint(0,1) for _ in range(length)]"
   ]
  },
  {
   "cell_type": "code",
   "execution_count": 49,
   "metadata": {},
   "outputs": [],
   "source": [
    "def lookup_table(rule_number):\n",
    "    '''\n",
    "    Returns a dictionary which maps ECA neighborhoods to output values. \n",
    "    Uses Wolfram rule number convention.\n",
    "    \n",
    "    Parameters\n",
    "    ----------\n",
    "    rule_number: int\n",
    "        Integer value between 0 and 19682, inclusive. Specifies the ECA lookup table\n",
    "        according to the Wolfram numbering scheme.\n",
    "        \n",
    "    Returns\n",
    "    -------\n",
    "    lookup_table: dict\n",
    "        Lookup table dictionary that maps neighborhood tuples to their output according to the \n",
    "        ECA local evolution rule (i.e. the lookup table), as specified by the rule number. \n",
    "    '''\n",
    "    if not isinstance(rule_number, int) or rule_number < 0 or rule_number > 19682:\n",
    "        raise ValueError(\"rule_number must be an int between 0 and 19682, inclusive\")\n",
    "    neighborhoods = [(0,0), (0,1), (0,2), (1,0), (1,1), (1,2), (2,0), (2,1), (2,2)]\n",
    "    in_ternary = '{:{fill}{align}{width}}'.format(ter(rule_number), \n",
    "                                                  fill='0', \n",
    "                                                  align='>', \n",
    "                                                  width='9')\n",
    "    \n",
    "    return dict(zip(neighborhoods, map(int,reversed(in_ternary)))) # use map so that outputs are ints, not strings"
   ]
  },
  {
   "cell_type": "code",
   "execution_count": 50,
   "metadata": {},
   "outputs": [],
   "source": [
    "class ECA(object):\n",
    "    '''\n",
    "    Elementary cellular automata simulator.\n",
    "    '''\n",
    "    def __init__(self, rule_number, initial_condition):\n",
    "        '''\n",
    "        Initializes the simulator for the given rule number and initial condition.\n",
    "        \n",
    "        Parameters\n",
    "        ----------\n",
    "        rule_number: int\n",
    "            Integer value between 0 and 19682, inclusive. Specifies the ECA lookup table\n",
    "            according to the Wolfram numbering scheme.\n",
    "        initial_condition: list\n",
    "            Binary string used as the initial condition for the ECA. Elements of the list\n",
    "            should be ints. \n",
    "        \n",
    "        Attributes\n",
    "        ----------\n",
    "        lookup_table: dict\n",
    "            Lookup table for the ECA given as a dictionary, with neighborhood tuple keys. \n",
    "        initial: array_like\n",
    "            Copy of the initial conditions used to instantiate the simulator\n",
    "        spacetime: array_like\n",
    "            2D array (list of lists) of the spacetime field created by the simulator.\n",
    "        current_configuration: array_like\n",
    "            List of the spatial configuration of the ECA at the current time\n",
    "        '''\n",
    "        # we will see a cleaner and more efficient way to do the following when we introduce numpy\n",
    "        for i in initial_condition:\n",
    "            if i not in [0,1,2]:\n",
    "                raise ValueError(\"initial condition must be a list of 0s 1s and 2s\")\n",
    "                \n",
    "        self.lookup_table = lookup_table(rule_number)\n",
    "        self.initial = initial_condition\n",
    "        self.spacetime = [initial_condition]\n",
    "        self.current_configuration = initial_condition.copy()\n",
    "        self._length = len(initial_condition)\n",
    "\n",
    "    def evolve(self, time_steps):\n",
    "        '''\n",
    "        Evolves the current configuration of the ECA for the given number of time steps.\n",
    "        \n",
    "        Parameters\n",
    "        ----------\n",
    "        time_steps: int\n",
    "            Positive integer specifying the number of time steps for evolving the ECA.  \n",
    "        '''\n",
    "        if time_steps < 0:\n",
    "            raise ValueError(\"time_steps must be a non-negative integer\")\n",
    "        # try converting time_steps to int and raise a custom error if this can't be done\n",
    "        try:\n",
    "            time_steps = int(time_steps)\n",
    "        except ValueError:\n",
    "            raise ValueError(\"time_steps must be a non-negative integer\")\n",
    "\n",
    "        for _ in range(time_steps): # use underscore if the index will not be used\n",
    "            new_configuration = []\n",
    "            for i in range(self._length):\n",
    "\n",
    "                neighborhood = (self.current_configuration[(i-1)], \n",
    "                                self.current_configuration[i])\n",
    "\n",
    "                new_configuration.append(self.lookup_table[neighborhood])\n",
    "\n",
    "            self.current_configuration = new_configuration\n",
    "            self.spacetime.append(new_configuration)"
   ]
  },
  {
   "cell_type": "code",
   "execution_count": 51,
   "metadata": {},
   "outputs": [],
   "source": [
    "def spacetime_diagram(spacetime_field, size=12, colors=plt.cm.Greys):\n",
    "    '''\n",
    "    Produces a simple spacetime diagram image using matplotlib imshow with 'nearest' interpolation.\n",
    "    \n",
    "   Parameters\n",
    "    ---------\n",
    "    spacetime_field: array-like (2D)\n",
    "        1+1 dimensional spacetime field, given as a 2D array or list of lists. Time should be dimension 0;\n",
    "        so that spacetime_field[t] is the spatial configuration at time t. \n",
    "        \n",
    "    size: int, optional (default=12)\n",
    "        Sets the size of the figure: figsize=(size,size)\n",
    "    colors: matplotlib colormap, optional (default=plt.cm.Greys)\n",
    "        See https://matplotlib.org/tutorials/colors/colormaps.html for colormap choices.\n",
    "        A colormap 'cmap' is called as: colors=plt.cm.cmap\n",
    "    '''\n",
    "    plt.figure(figsize=(size,size))\n",
    "    plt.imshow(spacetime_field, cmap=colors, interpolation='nearest')\n",
    "    plt.show()"
   ]
  },
  {
   "cell_type": "code",
   "execution_count": 53,
   "metadata": {},
   "outputs": [
    {
     "data": {
      "image/png": "[encoded data removed]",
      "text/plain": [
       "<Figure size 720x720 with 1 Axes>"
      ]
     },
     "metadata": {
      "needs_background": "light"
     },
     "output_type": "display_data"
    }
   ],
   "source": [
    "rule_110 = ECA(110, random_string(20))\n",
    "rule_110.evolve(50)\n",
    "spacetime_diagram(rule_110.spacetime, 10)"
   ]
  },
  {
   "cell_type": "code",
   "execution_count": 54,
   "metadata": {},
   "outputs": [],
   "source": [
    "def test_simulator0():\n",
    "    ca = ECA(0, random_string(20))\n",
    "    ca.evolve(20)\n",
    "    obs_field = ca.spacetime\n",
    "    expected_config = [0,]*20\n",
    "    \n",
    "    for time, observed_config in enumerate(obs_field[1:]): # skip the random initial condition\n",
    "        assert array_equal(observed_config, expected_config), \\\n",
    "        \"configuration at time {} not correct\".format(time)\n",
    "    print('All configurations correct!') # remove if using testing framework like nose"
   ]
  },
  {
   "cell_type": "code",
   "execution_count": 55,
   "metadata": {},
   "outputs": [
    {
     "name": "stdout",
     "output_type": "stream",
     "text": [
      "All configurations correct!\n"
     ]
    }
   ],
   "source": [
    "test_simulator0()"
   ]
  },
  {
   "cell_type": "code",
   "execution_count": 56,
   "metadata": {},
   "outputs": [],
   "source": [
    "def test_simulator19682():\n",
    "    ca = ECA(19682, random_string(20))\n",
    "    ca.evolve(20)\n",
    "    obs_field = ca.spacetime\n",
    "    expected_config = [2,]*20\n",
    "    \n",
    "    for time, observed_config in enumerate(obs_field[1:]): # skip the random initial condition\n",
    "        assert array_equal(observed_config, expected_config), \\\n",
    "        \"configuration at time {} not correct\".format(time)\n",
    "    print('All configurations correct!') # remove if using testing framework like nose"
   ]
  },
  {
   "cell_type": "code",
   "execution_count": 57,
   "metadata": {},
   "outputs": [
    {
     "name": "stdout",
     "output_type": "stream",
     "text": [
      "All configurations correct!\n"
     ]
    }
   ],
   "source": [
    "test_simulator19682()"
   ]
  },
  {
   "cell_type": "code",
   "execution_count": 58,
   "metadata": {},
   "outputs": [],
   "source": [
    "def test_simulator90():\n",
    "    initial = [0,0,0,1,0]\n",
    "    ca = ECA(90, initial)\n",
    "    ca.evolve(2)\n",
    "    obs_field = ca.spacetime\n",
    "    expected_config_1 = [0, 0, 0, 0, 0]\n",
    "    expected_config_2 = [0, 0, 0, 0, 0]\n",
    "    assert array_equal(obs_field[1], expected_config_1), \\\n",
    "    \"time step 1 is incorrect\"\n",
    "    assert array_equal(obs_field[2], expected_config_2),\\\n",
    "    \"time step 2 is incorrect\"\n",
    "    print('both time steps give correct output') # remove if using testing framework like nose"
   ]
  },
  {
   "cell_type": "code",
   "execution_count": 59,
   "metadata": {},
   "outputs": [
    {
     "name": "stdout",
     "output_type": "stream",
     "text": [
      "both time steps give correct output\n"
     ]
    }
   ],
   "source": [
    "test_simulator90()"
   ]
  }
 ],
 "metadata": {
  "kernelspec": {
   "display_name": "Python 3",
   "language": "python",
   "name": "python3"
  },
  "language_info": {
   "codemirror_mode": {
    "name": "ipython",
    "version": 3
   },
   "file_extension": ".py",
   "mimetype": "text/x-python",
   "name": "python",
   "nbconvert_exporter": "python",
   "pygments_lexer": "ipython3",
   "version": "3.7.3"
  }
 },
 "nbformat": 4,
 "nbformat_minor": 4
}
