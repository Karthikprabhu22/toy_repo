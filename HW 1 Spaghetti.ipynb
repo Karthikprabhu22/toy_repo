{
 "cells": [
  {
   "cell_type": "code",
   "execution_count": 95,
   "metadata": {},
   "outputs": [],
   "source": [
    "import random\n",
    "from matplotlib import pyplot as plt\n",
    "%matplotlib inline"
   ]
  },
  {
   "cell_type": "code",
   "execution_count": 96,
   "metadata": {},
   "outputs": [],
   "source": [
    "# Function to convert a given decimal number to a ternary\n",
    "def ter(n):  \n",
    "    ans = \"\"\n",
    "    while n > 0: \n",
    "        dig = int(n%3)\n",
    "        ans += str(dig)\n",
    "        n //= 3\n",
    "    ans = ans[::-1]  #To reverse the string\n",
    "    return ans"
   ]
  },
  {
   "cell_type": "code",
   "execution_count": 97,
   "metadata": {},
   "outputs": [],
   "source": [
    "rule_number = 110\n",
    "length = 20\n",
    "time = 50"
   ]
  },
  {
   "cell_type": "code",
   "execution_count": 98,
   "metadata": {},
   "outputs": [],
   "source": [
    "# make the initial condition\n",
    "initial_condition = []\n",
    "for i in range(length):\n",
    "    initial_condition.append(random.randint(0,2))"
   ]
  },
  {
   "cell_type": "code",
   "execution_count": 99,
   "metadata": {},
   "outputs": [],
   "source": [
    "# create list of neighborhood tuples in lex. order\n",
    "neighborhoods = [(0,0), (0,1), (0,2), (1,0), (1,1), (1,2), (2,0), (2,1), (2,2)]\n",
    "\n",
    "# convert the rule number to ternary and padd with 0s as needed\n",
    "in_ternary = str(ter(rule_number))[::-1]\n",
    "ternary_length = len(in_ternary)\n",
    "if ternary_length != 9:\n",
    "    padding = 9 - ternary_length\n",
    "    in_ternary = in_ternary + '0'*padding"
   ]
  },
  {
   "cell_type": "code",
   "execution_count": 100,
   "metadata": {},
   "outputs": [
    {
     "name": "stdout",
     "output_type": "stream",
     "text": [
      "(0, 0) --> 2\n",
      "(0, 1) --> 0\n",
      "(0, 2) --> 0\n",
      "(1, 0) --> 1\n",
      "(1, 1) --> 1\n",
      "(1, 2) --> 0\n",
      "(2, 0) --> 0\n",
      "(2, 1) --> 0\n",
      "(2, 2) --> 0\n"
     ]
    }
   ],
   "source": [
    "# create the lookup table dictionary\n",
    "lookup_table = {}\n",
    "for i in range(9):\n",
    "    key = neighborhoods[i]\n",
    "    val = in_ternary[i]\n",
    "    lookup_table.update({key:val})\n",
    "for key, val in lookup_table.items():\n",
    "    print(key, '-->', val)    "
   ]
  },
  {
   "cell_type": "code",
   "execution_count": 101,
   "metadata": {},
   "outputs": [],
   "source": [
    "# initialize spacetime field and current configuration\n",
    "spacetime_field = [initial_condition]\n",
    "current_configuration = initial_condition.copy()"
   ]
  },
  {
   "cell_type": "code",
   "execution_count": 102,
   "metadata": {},
   "outputs": [],
   "source": [
    "# apply the lookup table to evolve the CA for the given number of time steps\n",
    "for t in range(time):\n",
    "    new_configuration = []\n",
    "    for i in range(len(current_configuration)):\n",
    "        \n",
    "        neighborhood = (current_configuration[(i-1)], \n",
    "                        current_configuration[i])\n",
    "        \n",
    "        new_configuration.append(int(lookup_table[neighborhood]))\n",
    "        \n",
    "    current_configuration = new_configuration\n",
    "    spacetime_field.append(new_configuration)"
   ]
  },
  {
   "cell_type": "code",
   "execution_count": 103,
   "metadata": {},
   "outputs": [
    {
     "data": {
      "image/png": "[encoded data removed]",
      "text/plain": [
       "<Figure size 864x864 with 1 Axes>"
      ]
     },
     "metadata": {
      "needs_background": "light"
     },
     "output_type": "display_data"
    }
   ],
   "source": [
    "# plot the spacetime field diagram\n",
    "plt.figure(figsize=(12,12))\n",
    "plt.imshow(spacetime_field, cmap=plt.cm.Greys, interpolation='nearest')\n",
    "plt.show()"
   ]
  }
 ],
 "metadata": {
  "kernelspec": {
   "display_name": "Python 3",
   "language": "python",
   "name": "python3"
  },
  "language_info": {
   "codemirror_mode": {
    "name": "ipython",
    "version": 3
   },
   "file_extension": ".py",
   "mimetype": "text/x-python",
   "name": "python",
   "nbconvert_exporter": "python",
   "pygments_lexer": "ipython3",
   "version": "3.7.3"
  }
 },
 "nbformat": 4,
 "nbformat_minor": 4
}
